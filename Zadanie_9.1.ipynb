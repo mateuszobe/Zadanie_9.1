{
 "cells": [
  {
   "cell_type": "markdown",
   "id": "4b2af8ee-98db-4969-a317-f39f5e84c813",
   "metadata": {},
   "source": [
    "**#0 Importy i wczytanie baz**"
   ]
  },
  {
   "cell_type": "code",
   "execution_count": 16,
   "id": "74d3691d-9c2c-4793-b172-0270df35c9b5",
   "metadata": {
    "scrolled": true
   },
   "outputs": [
    {
     "data": {
      "text/html": [
       "<div>\n",
       "<style scoped>\n",
       "    .dataframe tbody tr th:only-of-type {\n",
       "        vertical-align: middle;\n",
       "    }\n",
       "\n",
       "    .dataframe tbody tr th {\n",
       "        vertical-align: top;\n",
       "    }\n",
       "\n",
       "    .dataframe thead th {\n",
       "        text-align: right;\n",
       "    }\n",
       "</style>\n",
       "<table border=\"1\" class=\"dataframe\">\n",
       "  <thead>\n",
       "    <tr style=\"text-align: right;\">\n",
       "      <th></th>\n",
       "      <th>Unnamed: 0</th>\n",
       "      <th>budget</th>\n",
       "      <th>homepage</th>\n",
       "      <th>id</th>\n",
       "      <th>original_language</th>\n",
       "      <th>original_title</th>\n",
       "      <th>overview</th>\n",
       "      <th>popularity</th>\n",
       "      <th>release_date</th>\n",
       "      <th>revenue</th>\n",
       "      <th>runtime</th>\n",
       "      <th>status</th>\n",
       "      <th>tagline</th>\n",
       "      <th>title</th>\n",
       "      <th>vote_average</th>\n",
       "      <th>vote_count</th>\n",
       "      <th>genre_id</th>\n",
       "    </tr>\n",
       "  </thead>\n",
       "  <tbody>\n",
       "    <tr>\n",
       "      <th>0</th>\n",
       "      <td>0</td>\n",
       "      <td>237000000</td>\n",
       "      <td>http://www.avatarmovie.com/</td>\n",
       "      <td>19995</td>\n",
       "      <td>en</td>\n",
       "      <td>Avatar</td>\n",
       "      <td>In the 22nd century, a paraplegic Marine is di...</td>\n",
       "      <td>150.437577</td>\n",
       "      <td>2009-12-10</td>\n",
       "      <td>2787965087</td>\n",
       "      <td>162.0</td>\n",
       "      <td>Released</td>\n",
       "      <td>Enter the World of Pandora.</td>\n",
       "      <td>Avatar</td>\n",
       "      <td>7.2</td>\n",
       "      <td>11800</td>\n",
       "      <td>28.0</td>\n",
       "    </tr>\n",
       "    <tr>\n",
       "      <th>1</th>\n",
       "      <td>1</td>\n",
       "      <td>300000000</td>\n",
       "      <td>http://disney.go.com/disneypictures/pirates/</td>\n",
       "      <td>285</td>\n",
       "      <td>en</td>\n",
       "      <td>Pirates of the Caribbean: At World's End</td>\n",
       "      <td>Captain Barbossa, long believed to be dead, ha...</td>\n",
       "      <td>139.082615</td>\n",
       "      <td>2007-05-19</td>\n",
       "      <td>961000000</td>\n",
       "      <td>169.0</td>\n",
       "      <td>Released</td>\n",
       "      <td>At the end of the world, the adventure begins.</td>\n",
       "      <td>Pirates of the Caribbean: At World's End</td>\n",
       "      <td>6.9</td>\n",
       "      <td>4500</td>\n",
       "      <td>12.0</td>\n",
       "    </tr>\n",
       "    <tr>\n",
       "      <th>2</th>\n",
       "      <td>2</td>\n",
       "      <td>245000000</td>\n",
       "      <td>http://www.sonypictures.com/movies/spectre/</td>\n",
       "      <td>206647</td>\n",
       "      <td>en</td>\n",
       "      <td>Spectre</td>\n",
       "      <td>A cryptic message from Bond’s past sends him o...</td>\n",
       "      <td>107.376788</td>\n",
       "      <td>2015-10-26</td>\n",
       "      <td>880674609</td>\n",
       "      <td>148.0</td>\n",
       "      <td>Released</td>\n",
       "      <td>A Plan No One Escapes</td>\n",
       "      <td>Spectre</td>\n",
       "      <td>6.3</td>\n",
       "      <td>4466</td>\n",
       "      <td>28.0</td>\n",
       "    </tr>\n",
       "  </tbody>\n",
       "</table>\n",
       "</div>"
      ],
      "text/plain": [
       "   Unnamed: 0     budget                                      homepage  \\\n",
       "0           0  237000000                   http://www.avatarmovie.com/   \n",
       "1           1  300000000  http://disney.go.com/disneypictures/pirates/   \n",
       "2           2  245000000   http://www.sonypictures.com/movies/spectre/   \n",
       "\n",
       "       id original_language                            original_title  \\\n",
       "0   19995                en                                    Avatar   \n",
       "1     285                en  Pirates of the Caribbean: At World's End   \n",
       "2  206647                en                                   Spectre   \n",
       "\n",
       "                                            overview  popularity release_date  \\\n",
       "0  In the 22nd century, a paraplegic Marine is di...  150.437577   2009-12-10   \n",
       "1  Captain Barbossa, long believed to be dead, ha...  139.082615   2007-05-19   \n",
       "2  A cryptic message from Bond’s past sends him o...  107.376788   2015-10-26   \n",
       "\n",
       "      revenue  runtime    status  \\\n",
       "0  2787965087    162.0  Released   \n",
       "1   961000000    169.0  Released   \n",
       "2   880674609    148.0  Released   \n",
       "\n",
       "                                          tagline  \\\n",
       "0                     Enter the World of Pandora.   \n",
       "1  At the end of the world, the adventure begins.   \n",
       "2                           A Plan No One Escapes   \n",
       "\n",
       "                                      title  vote_average  vote_count  \\\n",
       "0                                    Avatar           7.2       11800   \n",
       "1  Pirates of the Caribbean: At World's End           6.9        4500   \n",
       "2                                   Spectre           6.3        4466   \n",
       "\n",
       "   genre_id  \n",
       "0      28.0  \n",
       "1      12.0  \n",
       "2      28.0  "
      ]
     },
     "execution_count": 16,
     "metadata": {},
     "output_type": "execute_result"
    }
   ],
   "source": [
    "import pandas as pd\n",
    "import numpy as np\n",
    "import matplotlib.pyplot as plt\n",
    "\n",
    "%matplotlib inline\n",
    "\n",
    "movies_database = pd.read_csv('tmdb_movies.csv')\n",
    "movies_database.head(3)"
   ]
  },
  {
   "cell_type": "code",
   "execution_count": 17,
   "id": "299f8048-1673-4727-8c4c-51ee7dd83c67",
   "metadata": {},
   "outputs": [
    {
     "data": {
      "text/html": [
       "<div>\n",
       "<style scoped>\n",
       "    .dataframe tbody tr th:only-of-type {\n",
       "        vertical-align: middle;\n",
       "    }\n",
       "\n",
       "    .dataframe tbody tr th {\n",
       "        vertical-align: top;\n",
       "    }\n",
       "\n",
       "    .dataframe thead th {\n",
       "        text-align: right;\n",
       "    }\n",
       "</style>\n",
       "<table border=\"1\" class=\"dataframe\">\n",
       "  <thead>\n",
       "    <tr style=\"text-align: right;\">\n",
       "      <th></th>\n",
       "      <th>Unnamed: 0</th>\n",
       "      <th>genres</th>\n",
       "    </tr>\n",
       "  </thead>\n",
       "  <tbody>\n",
       "    <tr>\n",
       "      <th>0</th>\n",
       "      <td>28.0</td>\n",
       "      <td>Action</td>\n",
       "    </tr>\n",
       "    <tr>\n",
       "      <th>1</th>\n",
       "      <td>12.0</td>\n",
       "      <td>Adventure</td>\n",
       "    </tr>\n",
       "    <tr>\n",
       "      <th>2</th>\n",
       "      <td>14.0</td>\n",
       "      <td>Fantasy</td>\n",
       "    </tr>\n",
       "  </tbody>\n",
       "</table>\n",
       "</div>"
      ],
      "text/plain": [
       "   Unnamed: 0     genres\n",
       "0        28.0     Action\n",
       "1        12.0  Adventure\n",
       "2        14.0    Fantasy"
      ]
     },
     "execution_count": 17,
     "metadata": {},
     "output_type": "execute_result"
    }
   ],
   "source": [
    "genres_database = pd.read_csv('tmdb_genres.csv')\n",
    "genres_database.head(3)"
   ]
  },
  {
   "cell_type": "markdown",
   "id": "66d195c8-d4f3-4a1e-add0-a4d99711cc6e",
   "metadata": {},
   "source": [
    "**#1 Zwróć listę 10 najwyżej ocenianych filmów (vote_average), których liczba głosów (vote_count) jest większa od 3. kwartyla rozkładu liczby głosów**"
   ]
  },
  {
   "cell_type": "code",
   "execution_count": 12,
   "id": "a4af4cc4-fc10-4c75-a258-463b8fbe0f77",
   "metadata": {},
   "outputs": [
    {
     "name": "stdout",
     "output_type": "stream",
     "text": [
      "                         title  vote_average  vote_count\n",
      "1881  The Shawshank Redemption           8.5        8205\n",
      "3337             The Godfather           8.4        5893\n",
      "662                 Fight Club           8.3        9413\n",
      "1818          Schindler's List           8.3        4329\n",
      "2294             Spirited Away           8.3        3840\n",
      "2731    The Godfather: Part II           8.3        3338\n",
      "3232              Pulp Fiction           8.3        8428\n",
      "3865                  Whiplash           8.3        4254\n",
      "65             The Dark Knight           8.2       12002\n",
      "690             The Green Mile           8.2        4048\n"
     ]
    }
   ],
   "source": [
    "number_votes = movies_database['vote_count'].quantile(0.75)\n",
    "best_movies = movies_database[movies_database['vote_count'] > number_votes]\n",
    "top_movies = best_movies.nlargest(10, 'vote_average')\n",
    "print(top_movies[['title', 'vote_average', 'vote_count']])"
   ]
  },
  {
   "cell_type": "markdown",
   "id": "800e335c-27c9-48da-aaec-379968b32801",
   "metadata": {},
   "source": [
    "**#2 Pogrupuj tabelę w taki sposób, aby otrzymać średni przychód (revenue) oraz średni budżet (budget) w danym roku dla filmów opublikowanych od 2010 (włącznie) do 2016 roku (włącznie). Następnie na tej podstawie stwórz wykres, w którym średnie przychody są wykresem kolumnowym, a średni budżet wykresem liniowym na tych samych osiach. Sformatuj odpowiednio oś X oraz oś Y. Dodaj tytuł wykresu, oraz legendę, która znajduje się w prawym górnym rogu płótna, lecz poza obszarem osi. Przykład wykresu widoczny poniżej**"
   ]
  },
  {
   "cell_type": "code",
   "execution_count": 37,
   "id": "6d5627c9-1437-4c26-a83e-11d7aa9e2946",
   "metadata": {},
   "outputs": [
    {
     "data": {
      "image/png": "[encoded data removed]",
      "text/plain": [
       "<Figure size 1200x600 with 1 Axes>"
      ]
     },
     "metadata": {},
     "output_type": "display_data"
    }
   ],
   "source": [
    "#konwersja kolumny na typ daty:\n",
    "movies_database['release_date'] = pd.to_datetime(movies_database['release_date'], errors='coerce')\n",
    "\n",
    "#filtrowanie dat:\n",
    "movies_filtered = movies_database[\n",
    "    (movies_database['release_date'].dt.year >= 2010) &\n",
    "    (movies_database['release_date'].dt.year <= 2016)\n",
    "]\n",
    "\n",
    "#grupowanie przychodu i budżetu:\n",
    "grouped = movies_filtered.groupby(movies_filtered['release_date'].dt.year).agg({\n",
    "    'revenue': 'mean',\n",
    "    'budget': 'mean'\n",
    "}).reset_index()\n",
    "\n",
    "#wykres:\n",
    "plt.figure(figsize=(12, 6))\n",
    "plt.bar(grouped['release_date'], grouped['revenue'], color='royalblue', label='Średni Przychód')\n",
    "plt.plot(grouped['release_date'], grouped['budget'], color='tomato', linewidth=5, label='Średni Budżet')\n",
    "\n",
    "#formatowanie wykresu:\n",
    "plt.title('Średni przychód i budżet filmów w latach 2010-2016', size = 20)\n",
    "plt.xlabel('Rok', size = 15)\n",
    "plt.ylabel('Średnia wartość [$]', size = 15)\n",
    "plt.legend(loc = (1.05, 0.9))\n",
    "\n",
    "#oś Y\n",
    "def millions (x, pos):\n",
    "    return 'USD {:2.1f}M'.format(x*1e-6)\n",
    "formatter = plt.FuncFormatter(millions)\n",
    "plt.gca().yaxis.set_major_formatter(formatter) \n",
    "plt.gca().yaxis.set_major_locator(plt.MultipleLocator(2e7))\n",
    "\n",
    "plt.show()"
   ]
  },
  {
   "cell_type": "markdown",
   "id": "766a876a-68a2-4557-abeb-222401f42c84",
   "metadata": {},
   "source": [
    "**#3 Baza filmów zawiera kolumnę z id gatunku (genre_id). Na tej podstawie połącz ze sobą bazę filmów z bazą gatunków, tak aby w bazie filmów można było odczytać nazwę gatunku filmu**"
   ]
  },
  {
   "cell_type": "code",
   "execution_count": 49,
   "id": "8f4e95a8-8512-4edc-860f-9a96ad45fa3f",
   "metadata": {
    "scrolled": true
   },
   "outputs": [
    {
     "data": {
      "text/html": [
       "<div>\n",
       "<style scoped>\n",
       "    .dataframe tbody tr th:only-of-type {\n",
       "        vertical-align: middle;\n",
       "    }\n",
       "\n",
       "    .dataframe tbody tr th {\n",
       "        vertical-align: top;\n",
       "    }\n",
       "\n",
       "    .dataframe thead th {\n",
       "        text-align: right;\n",
       "    }\n",
       "</style>\n",
       "<table border=\"1\" class=\"dataframe\">\n",
       "  <thead>\n",
       "    <tr style=\"text-align: right;\">\n",
       "      <th></th>\n",
       "      <th>Unnamed: 0_x</th>\n",
       "      <th>budget</th>\n",
       "      <th>homepage</th>\n",
       "      <th>id</th>\n",
       "      <th>original_language</th>\n",
       "      <th>original_title</th>\n",
       "      <th>overview</th>\n",
       "      <th>popularity</th>\n",
       "      <th>release_date</th>\n",
       "      <th>revenue</th>\n",
       "      <th>runtime</th>\n",
       "      <th>status</th>\n",
       "      <th>tagline</th>\n",
       "      <th>title</th>\n",
       "      <th>vote_average</th>\n",
       "      <th>vote_count</th>\n",
       "      <th>genre_id</th>\n",
       "      <th>genres</th>\n",
       "    </tr>\n",
       "  </thead>\n",
       "  <tbody>\n",
       "    <tr>\n",
       "      <th>0</th>\n",
       "      <td>0</td>\n",
       "      <td>237000000</td>\n",
       "      <td>http://www.avatarmovie.com/</td>\n",
       "      <td>19995</td>\n",
       "      <td>en</td>\n",
       "      <td>Avatar</td>\n",
       "      <td>In the 22nd century, a paraplegic Marine is di...</td>\n",
       "      <td>150.437577</td>\n",
       "      <td>2009-12-10</td>\n",
       "      <td>2787965087</td>\n",
       "      <td>162.0</td>\n",
       "      <td>Released</td>\n",
       "      <td>Enter the World of Pandora.</td>\n",
       "      <td>Avatar</td>\n",
       "      <td>7.2</td>\n",
       "      <td>11800</td>\n",
       "      <td>28.0</td>\n",
       "      <td>Action</td>\n",
       "    </tr>\n",
       "    <tr>\n",
       "      <th>1</th>\n",
       "      <td>1</td>\n",
       "      <td>300000000</td>\n",
       "      <td>http://disney.go.com/disneypictures/pirates/</td>\n",
       "      <td>285</td>\n",
       "      <td>en</td>\n",
       "      <td>Pirates of the Caribbean: At World's End</td>\n",
       "      <td>Captain Barbossa, long believed to be dead, ha...</td>\n",
       "      <td>139.082615</td>\n",
       "      <td>2007-05-19</td>\n",
       "      <td>961000000</td>\n",
       "      <td>169.0</td>\n",
       "      <td>Released</td>\n",
       "      <td>At the end of the world, the adventure begins.</td>\n",
       "      <td>Pirates of the Caribbean: At World's End</td>\n",
       "      <td>6.9</td>\n",
       "      <td>4500</td>\n",
       "      <td>12.0</td>\n",
       "      <td>Adventure</td>\n",
       "    </tr>\n",
       "    <tr>\n",
       "      <th>2</th>\n",
       "      <td>2</td>\n",
       "      <td>245000000</td>\n",
       "      <td>http://www.sonypictures.com/movies/spectre/</td>\n",
       "      <td>206647</td>\n",
       "      <td>en</td>\n",
       "      <td>Spectre</td>\n",
       "      <td>A cryptic message from Bond’s past sends him o...</td>\n",
       "      <td>107.376788</td>\n",
       "      <td>2015-10-26</td>\n",
       "      <td>880674609</td>\n",
       "      <td>148.0</td>\n",
       "      <td>Released</td>\n",
       "      <td>A Plan No One Escapes</td>\n",
       "      <td>Spectre</td>\n",
       "      <td>6.3</td>\n",
       "      <td>4466</td>\n",
       "      <td>28.0</td>\n",
       "      <td>Action</td>\n",
       "    </tr>\n",
       "  </tbody>\n",
       "</table>\n",
       "</div>"
      ],
      "text/plain": [
       "   Unnamed: 0_x     budget                                      homepage  \\\n",
       "0             0  237000000                   http://www.avatarmovie.com/   \n",
       "1             1  300000000  http://disney.go.com/disneypictures/pirates/   \n",
       "2             2  245000000   http://www.sonypictures.com/movies/spectre/   \n",
       "\n",
       "       id original_language                            original_title  \\\n",
       "0   19995                en                                    Avatar   \n",
       "1     285                en  Pirates of the Caribbean: At World's End   \n",
       "2  206647                en                                   Spectre   \n",
       "\n",
       "                                            overview  popularity release_date  \\\n",
       "0  In the 22nd century, a paraplegic Marine is di...  150.437577   2009-12-10   \n",
       "1  Captain Barbossa, long believed to be dead, ha...  139.082615   2007-05-19   \n",
       "2  A cryptic message from Bond’s past sends him o...  107.376788   2015-10-26   \n",
       "\n",
       "      revenue  runtime    status  \\\n",
       "0  2787965087    162.0  Released   \n",
       "1   961000000    169.0  Released   \n",
       "2   880674609    148.0  Released   \n",
       "\n",
       "                                          tagline  \\\n",
       "0                     Enter the World of Pandora.   \n",
       "1  At the end of the world, the adventure begins.   \n",
       "2                           A Plan No One Escapes   \n",
       "\n",
       "                                      title  vote_average  vote_count  \\\n",
       "0                                    Avatar           7.2       11800   \n",
       "1  Pirates of the Caribbean: At World's End           6.9        4500   \n",
       "2                                   Spectre           6.3        4466   \n",
       "\n",
       "   genre_id     genres  \n",
       "0      28.0     Action  \n",
       "1      12.0  Adventure  \n",
       "2      28.0     Action  "
      ]
     },
     "execution_count": 49,
     "metadata": {},
     "output_type": "execute_result"
    }
   ],
   "source": [
    "movies_with_genres = movies_database.merge(genres_database, left_on='genre_id', right_on='Unnamed: 0', how='left')\n",
    "movies_with_genres = movies_with_genres.drop(columns=['Unnamed: 0_y'])\n",
    "movies_with_genres.head(3)                                           "
   ]
  },
  {
   "cell_type": "markdown",
   "id": "5a6417bd-0915-4112-9ad1-5f22abae152c",
   "metadata": {},
   "source": [
    "**#4 Jaki gatunek filmu z bazy pojawia się w niej najczęściej? Ile filmów tego gatunku znajduje się w bazie?**"
   ]
  },
  {
   "cell_type": "code",
   "execution_count": 54,
   "id": "a252d0e3-f685-4f5b-91ce-08f0c6765119",
   "metadata": {},
   "outputs": [
    {
     "name": "stdout",
     "output_type": "stream",
     "text": [
      "Najczęściej występujący gatunek: Drama (1207 filmów)\n"
     ]
    }
   ],
   "source": [
    "most_common_genre = movies_with_genres['genres'].value_counts().idxmax()\n",
    "count_most_common_genre = movies_with_genres['genres'].value_counts().max()\n",
    "print(f'Najczęściej występujący gatunek: {most_common_genre} ({count_most_common_genre} filmów)')"
   ]
  },
  {
   "cell_type": "markdown",
   "id": "612cea15-4c0e-46fb-8f89-5b7d06e558bd",
   "metadata": {},
   "source": [
    "**#5 Filmy, którego gatunku trwają średnio najdłużej (runtime)?**"
   ]
  },
  {
   "cell_type": "code",
   "execution_count": 59,
   "id": "0426d526-5d1f-45fd-aaa8-01c28e59b701",
   "metadata": {},
   "outputs": [
    {
     "name": "stdout",
     "output_type": "stream",
     "text": [
      "Gatunek z najdłuższym średnim czasem trwania: History\n"
     ]
    }
   ],
   "source": [
    "longest_runtime_genre = movies_with_genres.groupby('genres')['runtime'].mean().idxmax()\n",
    "print(f'Gatunek z najdłuższym średnim czasem trwania: {longest_runtime_genre}')"
   ]
  },
  {
   "cell_type": "markdown",
   "id": "7778b8ef-744a-40fe-9db3-431dc0bb6b1d",
   "metadata": {},
   "source": [
    "**#6 Stwórz histogram czasu trwania filmów z gatunku, który cechuje się największym średnim czasem trwania**"
   ]
  },
  {
   "cell_type": "code",
   "execution_count": 66,
   "id": "8c1f7683-6972-4746-8068-27f4516782c8",
   "metadata": {},
   "outputs": [
    {
     "data": {
      "image/png": "[encoded data removed]",
      "text/plain": [
       "<Figure size 1200x600 with 1 Axes>"
      ]
     },
     "metadata": {},
     "output_type": "display_data"
    }
   ],
   "source": [
    "#filtrowanie dla gatunku 'History'\n",
    "history_movies = movies_with_genres[movies_with_genres['genres'] == 'History']\n",
    "\n",
    "# Tworzenie histogramu czasu trwania filmów z gatunku 'History'\n",
    "plt.figure(figsize=(12, 6))\n",
    "plt.hist(history_movies['runtime'].dropna(), bins=20)\n",
    "plt.title('Histogram czasu trwania filmów z gatunku \"History\"')\n",
    "plt.xlabel('Czas trwania (minuty)')\n",
    "plt.ylabel('Liczba filmów')\n",
    "plt.show()"
   ]
  },
  {
   "cell_type": "code",
   "execution_count": null,
   "id": "3e11dd58-c27f-4e30-97ca-89c86a1361f1",
   "metadata": {},
   "outputs": [],
   "source": []
  }
 ],
 "metadata": {
  "kernelspec": {
   "display_name": "Python 3 (ipykernel)",
   "language": "python",
   "name": "python3"
  },
  "language_info": {
   "codemirror_mode": {
    "name": "ipython",
    "version": 3
   },
   "file_extension": ".py",
   "mimetype": "text/x-python",
   "name": "python",
   "nbconvert_exporter": "python",
   "pygments_lexer": "ipython3",
   "version": "3.12.3"
  }
 },
 "nbformat": 4,
 "nbformat_minor": 5
}
